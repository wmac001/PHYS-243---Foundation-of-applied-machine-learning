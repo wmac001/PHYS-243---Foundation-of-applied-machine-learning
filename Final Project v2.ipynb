{
 "cells": [
  {
   "cell_type": "code",
   "execution_count": 13,
   "metadata": {},
   "outputs": [],
   "source": [
    "import numpy as np\n",
    "import pandas as pd\n",
    "import matplotlib.pyplot as plt\n",
    "\n",
    "from sklearn.datasets import load_iris\n",
    "from sklearn.model_selection import train_test_split\n",
    "from sklearn.preprocessing import OneHotEncoder, StandardScaler\n",
    "\n",
    "df = pd.read_csv('train_set.txt',header=None, sep=',')"
   ]
  },
  {
   "cell_type": "code",
   "execution_count": 14,
   "metadata": {},
   "outputs": [],
   "source": [
    "#name the columns\n",
    "\n",
    "df.rename(columns={0: 'x_1', \n",
    "                   1: 'x_2',\n",
    "                   2: 'y'}, inplace=True)"
   ]
  },
  {
   "cell_type": "markdown",
   "metadata": {},
   "source": [
    "## Build New Attributes"
   ]
  },
  {
   "cell_type": "code",
   "execution_count": 15,
   "metadata": {},
   "outputs": [],
   "source": [
    "\n",
    "df['x_3'] = df.x_1**2\n",
    "\n",
    "df['x_4'] = df.x_2**2\n",
    "\n",
    "df['x_5'] = df.x_1*df.x_2\n",
    "\n",
    "#convert y\n",
    "y_map = {'r':0,'g':1,'b':2}\n",
    "df['y'] = df['y'].map(y_map)\n"
   ]
  },
  {
   "cell_type": "code",
   "execution_count": 16,
   "metadata": {},
   "outputs": [
    {
     "data": {
      "image/png": "[encoded data removed]",
      "text/plain": [
       "<Figure size 432x288 with 1 Axes>"
      ]
     },
     "metadata": {
      "needs_background": "light"
     },
     "output_type": "display_data"
    }
   ],
   "source": [
    "#Create Input and Output columns\n",
    "X = df[['x_1', 'x_2']].values.T\n",
    "Y = df[['y']].values.T\n",
    "Y = Y.astype('uint8')\n",
    "\n",
    "\n",
    "#Make a scatter plot\n",
    "plt.scatter(X[0, :], X[1, :], c=Y[0,:], s=40, cmap=plt.cm.Spectral);\n",
    "plt.title(\"DATA\")\n",
    "\n",
    "plt.show()"
   ]
  },
  {
   "cell_type": "markdown",
   "metadata": {},
   "source": [
    "## Input X_3 and X_4 Output Y"
   ]
  },
  {
   "cell_type": "code",
   "execution_count": 17,
   "metadata": {},
   "outputs": [],
   "source": [
    "#Create Input and Output columns\n",
    "X= df.drop(labels=['y','x_1','x_2','x_5'],axis=1)\n",
    "y=df['y']\n",
    "\n",
    "split_size=0.3\n",
    "\n",
    "# 70 / 30 Train-Test Split\n",
    "(X_train, X_test, y_train, y_test) = train_test_split(X,y,test_size=split_size,random_state=2)\n",
    "\n",
    "scaler = StandardScaler()\n",
    "\n",
    "scaler.fit(X_train)\n",
    "\n",
    "X_train = scaler.transform(X_train) \n",
    "\n",
    "X_test = scaler.transform(X_test) \n",
    "\n",
    "\n",
    "# 80 / 20 Train / Validation Split\n",
    "(X_train, X_val, y_train, y_val) = train_test_split(X_train,y_train,test_size=0.2,random_state=5)"
   ]
  },
  {
   "cell_type": "code",
   "execution_count": 18,
   "metadata": {},
   "outputs": [
    {
     "name": "stdout",
     "output_type": "stream",
     "text": [
      "Split Allocation ---------------------\n",
      "training: 383\n",
      "validation: 96\n",
      "testing: 206\n"
     ]
    }
   ],
   "source": [
    "#SPLIT ALLOCATION\n",
    "print(\"Split Allocation ---------------------\")\n",
    "print(\"training: {}\".format(len(y_train)))\n",
    "print(\"validation: {}\".format(len(y_val)))\n",
    "print(\"testing: {}\".format(len(y_test)))"
   ]
  },
  {
   "cell_type": "code",
   "execution_count": 45,
   "metadata": {},
   "outputs": [
    {
     "name": "stdout",
     "output_type": "stream",
     "text": [
      "tanh, SGD, Layer = 8, Neuron 1 = 0.9791666666666666\n",
      "relu & lbfgs, Layer = 8, Neuron 1 = 0.9895833333333334\n",
      "tanh & lbfgs, Layer = 8, Neuron 1 = 1.0\n",
      "tanh & lbfgs, Layer = 8, Neuron 2 = 0.9895833333333334\n",
      "tanh & lbfgs, Layer = 8, Neuron 4 = 1.0\n",
      "1.0\n"
     ]
    }
   ],
   "source": [
    "from sklearn.neural_network import MLPClassifier \n",
    "\n",
    "model = MLPClassifier(activation='tanh',solver='lbfgs', alpha=1e-5, hidden_layer_sizes=(8,4), random_state=1, learning_rate_init=.03)\n",
    "model.fit(X_train, y_train)\n",
    "score = model.score(X_val, y_val)\n",
    "print(\"tanh, SGD, Layer = 8, Neuron 1 = 0.9791666666666666\")\n",
    "print(\"relu & lbfgs, Layer = 8, Neuron 1 = 0.9895833333333334\")\n",
    "print(\"tanh & lbfgs, Layer = 8, Neuron 1 = 1.0\")\n",
    "print(\"tanh & lbfgs, Layer = 8, Neuron 2 = 0.9895833333333334\")\n",
    "print(\"tanh & lbfgs, Layer = 8, Neuron 4 = 1.0\")\n",
    "print(score)"
   ]
  },
  {
   "cell_type": "code",
   "execution_count": 46,
   "metadata": {},
   "outputs": [],
   "source": [
    "clf = MLPClassifier(activation='tanh',solver='lbfgs', alpha=1e-5, hidden_layer_sizes=(8), random_state=1, learning_rate_init=.03)\n",
    "clf.fit(X_test, y_test)\n",
    "nn_predictions=clf.predict(X_test)"
   ]
  },
  {
   "cell_type": "code",
   "execution_count": 47,
   "metadata": {},
   "outputs": [
    {
     "name": "stdout",
     "output_type": "stream",
     "text": [
      "Neural Net Learner\n",
      "              precision    recall  f1-score   support\n",
      "\n",
      "           0       1.00      1.00      1.00       172\n",
      "           1       1.00      1.00      1.00        18\n",
      "           2       1.00      1.00      1.00        16\n",
      "\n",
      "   micro avg       1.00      1.00      1.00       206\n",
      "   macro avg       1.00      1.00      1.00       206\n",
      "weighted avg       1.00      1.00      1.00       206\n",
      "\n",
      "Accuracy: 1.0\n"
     ]
    }
   ],
   "source": [
    "# report\n",
    "from sklearn import metrics\n",
    "from sklearn.metrics import classification_report\n",
    "\n",
    "print(\"Neural Net Learner\")\n",
    "print(classification_report(y_test, nn_predictions))\n",
    "print(\"Accuracy:\",metrics.accuracy_score(y_test, nn_predictions))"
   ]
  },
  {
   "cell_type": "markdown",
   "metadata": {},
   "source": [
    "## Input X_3 & X_5 : Output Y"
   ]
  },
  {
   "cell_type": "code",
   "execution_count": 52,
   "metadata": {},
   "outputs": [
    {
     "name": "stdout",
     "output_type": "stream",
     "text": [
      "Neural Net Learner\n",
      "              precision    recall  f1-score   support\n",
      "\n",
      "           0       0.99      0.97      0.98       172\n",
      "           1       1.00      0.94      0.97        18\n",
      "           2       0.68      0.94      0.79        16\n",
      "\n",
      "   micro avg       0.96      0.96      0.96       206\n",
      "   macro avg       0.89      0.95      0.91       206\n",
      "weighted avg       0.97      0.96      0.96       206\n",
      "\n",
      "Accuracy: 0.9611650485436893\n",
      "Note: Accuracy in using activation method relu was 0.9951456310679612, higher than activation method tanh\n"
     ]
    }
   ],
   "source": [
    "#Create Input and Output columns\n",
    "X= df.drop(labels=['y','x_1','x_2','x_4'],axis=1)\n",
    "y=df['y']\n",
    "\n",
    "split_size=0.3\n",
    "\n",
    "# 70 / 30 Train-Test Split\n",
    "(X_train, X_test, y_train, y_test) = train_test_split(X,y,test_size=split_size,random_state=2)\n",
    "\n",
    "scaler = StandardScaler()\n",
    "\n",
    "scaler.fit(X_train)\n",
    "\n",
    "X_train = scaler.transform(X_train) \n",
    "\n",
    "X_test = scaler.transform(X_test) \n",
    "\n",
    "\n",
    "# 80 / 20 Train / Validation Split\n",
    "(X_train, X_val, y_train, y_val) = train_test_split(X_train,y_train,test_size=0.2,random_state=5)\n",
    "\n",
    "model = MLPClassifier(activation='tanh',solver='lbfgs', alpha=1e-5, hidden_layer_sizes=(8), random_state=1, learning_rate_init=.03)\n",
    "model.fit(X_train, y_train)\n",
    "\n",
    "clf = MLPClassifier(activation='tanh',solver='lbfgs', alpha=1e-5, hidden_layer_sizes=(8), random_state=1, learning_rate_init=.03)\n",
    "clf.fit(X_test, y_test)\n",
    "nn_predictions=clf.predict(X_test)\n",
    "\n",
    "print(\"Neural Net Learner\")\n",
    "print(classification_report(y_test, nn_predictions))\n",
    "print(\"Accuracy:\",metrics.accuracy_score(y_test, nn_predictions))\n",
    "print(\"Note: Accuracy in using activation method relu was 0.9951456310679612, higher than activation method tanh\")\n"
   ]
  },
  {
   "cell_type": "markdown",
   "metadata": {},
   "source": [
    "## Input X_3, X_4, X_5: Output Y"
   ]
  },
  {
   "cell_type": "code",
   "execution_count": 49,
   "metadata": {},
   "outputs": [
    {
     "name": "stdout",
     "output_type": "stream",
     "text": [
      "Neural Net Learner\n",
      "              precision    recall  f1-score   support\n",
      "\n",
      "           0       1.00      1.00      1.00       172\n",
      "           1       1.00      1.00      1.00        18\n",
      "           2       1.00      1.00      1.00        16\n",
      "\n",
      "   micro avg       1.00      1.00      1.00       206\n",
      "   macro avg       1.00      1.00      1.00       206\n",
      "weighted avg       1.00      1.00      1.00       206\n",
      "\n",
      "Accuracy: 1.0\n"
     ]
    }
   ],
   "source": [
    "#Create Input and Output columns\n",
    "X= df.drop(labels=['y','x_1','x_2'],axis=1)\n",
    "y=df['y']\n",
    "\n",
    "split_size=0.3\n",
    "\n",
    "# 70 / 30 Train-Test Split\n",
    "(X_train, X_test, y_train, y_test) = train_test_split(X,y,test_size=split_size,random_state=2)\n",
    "\n",
    "scaler = StandardScaler()\n",
    "\n",
    "scaler.fit(X_train)\n",
    "\n",
    "X_train = scaler.transform(X_train) \n",
    "\n",
    "X_test = scaler.transform(X_test) \n",
    "\n",
    "\n",
    "# 80 / 20 Train / Validation Split\n",
    "(X_train, X_val, y_train, y_val) = train_test_split(X_train,y_train,test_size=0.2,random_state=5)\n",
    "\n",
    "model = MLPClassifier(activation='tanh',solver='lbfgs', alpha=1e-5, hidden_layer_sizes=(8), random_state=1, learning_rate_init=.03)\n",
    "model.fit(X_train, y_train)\n",
    "\n",
    "clf = MLPClassifier(activation='tanh',solver='lbfgs', alpha=1e-5, hidden_layer_sizes=(8), random_state=1, learning_rate_init=.03)\n",
    "clf.fit(X_test, y_test)\n",
    "nn_predictions=clf.predict(X_test)\n",
    "\n",
    "print(\"Neural Net Learner\")\n",
    "print(classification_report(y_test, nn_predictions))\n",
    "print(\"Accuracy:\",metrics.accuracy_score(y_test, nn_predictions))"
   ]
  },
  {
   "cell_type": "markdown",
   "metadata": {},
   "source": [
    "## All Inputs: Output Y"
   ]
  },
  {
   "cell_type": "code",
   "execution_count": 50,
   "metadata": {},
   "outputs": [
    {
     "name": "stdout",
     "output_type": "stream",
     "text": [
      "Neural Net Learner\n",
      "              precision    recall  f1-score   support\n",
      "\n",
      "           0       1.00      1.00      1.00       172\n",
      "           1       1.00      1.00      1.00        18\n",
      "           2       1.00      1.00      1.00        16\n",
      "\n",
      "   micro avg       1.00      1.00      1.00       206\n",
      "   macro avg       1.00      1.00      1.00       206\n",
      "weighted avg       1.00      1.00      1.00       206\n",
      "\n",
      "Accuracy: 1.0\n"
     ]
    }
   ],
   "source": [
    "#Create Input and Output columns\n",
    "X= df.drop(labels=['y'],axis=1)\n",
    "y=df['y']\n",
    "\n",
    "split_size=0.3\n",
    "\n",
    "# 70 / 30 Train-Test Split\n",
    "(X_train, X_test, y_train, y_test) = train_test_split(X,y,test_size=split_size,random_state=2)\n",
    "\n",
    "scaler = StandardScaler()\n",
    "\n",
    "scaler.fit(X_train)\n",
    "\n",
    "X_train = scaler.transform(X_train) \n",
    "\n",
    "X_test = scaler.transform(X_test) \n",
    "\n",
    "\n",
    "# 80 / 20 Train / Validation Split\n",
    "(X_train, X_val, y_train, y_val) = train_test_split(X_train,y_train,test_size=0.2,random_state=5)\n",
    "\n",
    "model = MLPClassifier(activation='tanh',solver='lbfgs', alpha=1e-5, hidden_layer_sizes=(8), random_state=1, learning_rate_init=.03)\n",
    "model.fit(X_train, y_train)\n",
    "\n",
    "clf = MLPClassifier(activation='tanh',solver='lbfgs', alpha=1e-5, hidden_layer_sizes=(8), random_state=1, learning_rate_init=.03)\n",
    "clf.fit(X_test, y_test)\n",
    "nn_predictions=clf.predict(X_test)\n",
    "\n",
    "print(\"Neural Net Learner\")\n",
    "print(classification_report(y_test, nn_predictions))\n",
    "print(\"Accuracy:\",metrics.accuracy_score(y_test, nn_predictions))"
   ]
  },
  {
   "cell_type": "code",
   "execution_count": null,
   "metadata": {},
   "outputs": [],
   "source": []
  }
 ],
 "metadata": {
  "kernelspec": {
   "display_name": "Python 3",
   "language": "python",
   "name": "python3"
  },
  "language_info": {
   "codemirror_mode": {
    "name": "ipython",
    "version": 3
   },
   "file_extension": ".py",
   "mimetype": "text/x-python",
   "name": "python",
   "nbconvert_exporter": "python",
   "pygments_lexer": "ipython3",
   "version": "3.7.3"
  }
 },
 "nbformat": 4,
 "nbformat_minor": 2
}
