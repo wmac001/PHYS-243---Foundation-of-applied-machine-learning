{
 "cells": [
  {
   "cell_type": "code",
   "execution_count": 1,
   "metadata": {},
   "outputs": [],
   "source": [
    "import pandas as pd\n",
    "import numpy as np\n",
    "import matplotlib.pyplot as plt\n",
    "from pandas.plotting import scatter_matrix\n",
    "import seaborn as sns\n",
    "from sklearn.model_selection import train_test_split\n",
    "from sklearn.ensemble import RandomForestClassifier\n"
   ]
  },
  {
   "cell_type": "code",
   "execution_count": 2,
   "metadata": {},
   "outputs": [
    {
     "name": "stdout",
     "output_type": "stream",
     "text": [
      "   0                  1       2           3   4                    5   \\\n",
      "0  39          State-gov   77516   Bachelors  13        Never-married   \n",
      "1  50   Self-emp-not-inc   83311   Bachelors  13   Married-civ-spouse   \n",
      "2  38            Private  215646     HS-grad   9             Divorced   \n",
      "3  53            Private  234721        11th   7   Married-civ-spouse   \n",
      "4  28            Private  338409   Bachelors  13   Married-civ-spouse   \n",
      "\n",
      "                   6               7       8        9     10  11  12  \\\n",
      "0        Adm-clerical   Not-in-family   White     Male  2174   0  40   \n",
      "1     Exec-managerial         Husband   White     Male     0   0  13   \n",
      "2   Handlers-cleaners   Not-in-family   White     Male     0   0  40   \n",
      "3   Handlers-cleaners         Husband   Black     Male     0   0  40   \n",
      "4      Prof-specialty            Wife   Black   Female     0   0  40   \n",
      "\n",
      "               13      14  \n",
      "0   United-States   <=50K  \n",
      "1   United-States   <=50K  \n",
      "2   United-States   <=50K  \n",
      "3   United-States   <=50K  \n",
      "4            Cuba   <=50K  \n"
     ]
    }
   ],
   "source": [
    "df = pd.read_csv(\"adult.data\",header=None)\n",
    "data = [df]\n",
    "print (df.head())"
   ]
  },
  {
   "cell_type": "code",
   "execution_count": 3,
   "metadata": {},
   "outputs": [],
   "source": [
    "df.rename(columns={0: 'age', \n",
    "                   1: 'workclass',\n",
    "                   2: 'weight',\n",
    "                   3: 'education',\n",
    "                   4: 'education-years',\n",
    "                   5: 'marital-status',\n",
    "                   6: 'occupation',\n",
    "                   7: 'relationship',\n",
    "                   8: 'race',\n",
    "                   9: 'sex',\n",
    "                   10: 'capital-gain',\n",
    "                   11: 'capital-loss',\n",
    "                   12: 'hours-per-week',\n",
    "                   13: 'country',\n",
    "                   14: 'salary',}, inplace=True)"
   ]
  },
  {
   "cell_type": "code",
   "execution_count": 4,
   "metadata": {},
   "outputs": [
    {
     "data": {
      "text/plain": [
       "<matplotlib.axes._subplots.AxesSubplot at 0x1983ebf1668>"
      ]
     },
     "execution_count": 4,
     "metadata": {},
     "output_type": "execute_result"
    },
    {
     "data": {
      "image/png": "[encoded data removed]",
      "text/plain": [
       "<Figure size 720x720 with 2 Axes>"
      ]
     },
     "metadata": {
      "needs_background": "light"
     },
     "output_type": "display_data"
    }
   ],
   "source": [
    "f,ax = plt.subplots(figsize=(10, 10))\n",
    "sns.heatmap(df.corr(), annot=True, linewidths=1, fmt= '.1f',ax=ax)"
   ]
  },
  {
   "cell_type": "code",
   "execution_count": 5,
   "metadata": {},
   "outputs": [],
   "source": [
    "#Transform categorical data into numbers\n",
    "\n",
    "#convert salary\n",
    "salary_map={' <=50K':1,' >50K':0}\n",
    "df['salary']=df['salary'].map(salary_map).astype(int)\n",
    "\n",
    "#convert sex\n",
    "df['sex'] = df['sex'].map({' Male':1,' Female':0}).astype(int)\n",
    "\n",
    "#replace ?\n",
    "df['country'] = df['country'].replace(' ?',np.nan)\n",
    "df['workclass'] = df['workclass'].replace(' ?',np.nan)\n",
    "df['occupation'] = df['occupation'].replace(' ?',np.nan)\n",
    "df.dropna(how='any',inplace=True)\n",
    "\n",
    "#convert country\n",
    "for dataset in data:\n",
    "    dataset.loc[dataset['country'] != ' United-States', 'country'] = 'Non-US'\n",
    "    dataset.loc[dataset['country'] == ' United-States', 'country'] = 'US'\n",
    "\n",
    "df['country'] = df['country'].map({'US':1,'Non-US':0}).astype(int)\n",
    "\n",
    "#convert marital-status\n",
    "df['marital-status'] = df['marital-status'].replace([' Divorced',' Married-spouse-absent',' Never-married',' Separated',' Widowed'],'Single')\n",
    "df['marital-status'] = df['marital-status'].replace([' Married-AF-spouse',' Married-civ-spouse'],'Couple')\n",
    "df['marital-status'] = df['marital-status'].map({'Couple':0,'Single':1})\n",
    "df.head(10)\n",
    "\n",
    "#convert relationship\n",
    "rel_map = {' Unmarried':0,' Wife':1,' Husband':2,' Not-in-family':3,' Own-child':4,' Other-relative':5}\n",
    "df['relationship'] = df['relationship'].map(rel_map)\n",
    "\n",
    "#convert race\n",
    "race_map={' White':0,' Amer-Indian-Eskimo':1,' Asian-Pac-Islander':2,' Black':3,' Other':4}\n",
    "df['race']= df['race'].map(race_map)\n",
    "\n",
    "#convert workclass\n",
    "def f(x):\n",
    "    if x['workclass'] == ' Federal-gov' or x['workclass']== ' Local-gov' or x['workclass']==' State-gov': return 'govt'\n",
    "    elif x['workclass'] == ' Private':return 'private'\n",
    "    elif x['workclass'] == ' Self-emp-inc' or x['workclass'] == ' Self-emp-not-inc': return 'self_employed'\n",
    "    else: return 'without_pay'\n",
    "    \n",
    "#add new column employment_type   \n",
    "df['employment_type']=df.apply(f, axis=1)\n",
    "employment_map = {'govt':0,'private':1,'self_employed':2,'without_pay':3}\n",
    "df['employment_type'] = df['employment_type'].map(employment_map)\n",
    "\n",
    "#drop unneeded labels\n",
    "df.drop(labels=['workclass','education','occupation'],axis=1,inplace=True)\n",
    "\n",
    "#convert capital-gain\n",
    "df.loc[(df['capital-gain'] > 0),'capital-gain'] = 1\n",
    "df.loc[(df['capital-gain'] == 0 ,'capital-gain')]= 0\n",
    "\n",
    "#convert capital-loss\n",
    "df.loc[(df['capital-loss'] > 0),'capital-loss'] = 1\n",
    "df.loc[(df['capital-loss'] == 0 ,'capital-loss')]= 0"
   ]
  },
  {
   "cell_type": "code",
   "execution_count": 6,
   "metadata": {},
   "outputs": [
    {
     "name": "stdout",
     "output_type": "stream",
     "text": [
      "   age  weight  education-years  marital-status  relationship  race  sex  \\\n",
      "0   39   77516               13               1             3     0    1   \n",
      "1   50   83311               13               0             2     0    1   \n",
      "2   38  215646                9               1             3     0    1   \n",
      "3   53  234721                7               0             2     3    1   \n",
      "4   28  338409               13               0             1     3    0   \n",
      "5   37  284582               14               0             1     0    0   \n",
      "6   49  160187                5               1             3     3    0   \n",
      "7   52  209642                9               0             2     0    1   \n",
      "8   31   45781               14               1             3     0    0   \n",
      "9   42  159449               13               0             2     0    1   \n",
      "\n",
      "   capital-gain  capital-loss  hours-per-week  country  salary  \\\n",
      "0             1             0              40        1       1   \n",
      "1             0             0              13        1       1   \n",
      "2             0             0              40        1       1   \n",
      "3             0             0              40        1       1   \n",
      "4             0             0              40        0       1   \n",
      "5             0             0              40        1       1   \n",
      "6             0             0              16        0       1   \n",
      "7             0             0              45        1       0   \n",
      "8             1             0              50        1       0   \n",
      "9             1             0              40        1       0   \n",
      "\n",
      "   employment_type  \n",
      "0                0  \n",
      "1                2  \n",
      "2                1  \n",
      "3                1  \n",
      "4                1  \n",
      "5                1  \n",
      "6                1  \n",
      "7                2  \n",
      "8                1  \n",
      "9                1  \n",
      "----------------------------------------\n",
      "<class 'pandas.core.frame.DataFrame'>\n",
      "Int64Index: 30162 entries, 0 to 32560\n",
      "Data columns (total 13 columns):\n",
      "age                30162 non-null int64\n",
      "weight             30162 non-null int64\n",
      "education-years    30162 non-null int64\n",
      "marital-status     30162 non-null int64\n",
      "relationship       30162 non-null int64\n",
      "race               30162 non-null int64\n",
      "sex                30162 non-null int32\n",
      "capital-gain       30162 non-null int64\n",
      "capital-loss       30162 non-null int64\n",
      "hours-per-week     30162 non-null int64\n",
      "country            30162 non-null int32\n",
      "salary             30162 non-null int32\n",
      "employment_type    30162 non-null int64\n",
      "dtypes: int32(3), int64(10)\n",
      "memory usage: 2.9 MB\n",
      "None\n"
     ]
    }
   ],
   "source": [
    "print (df.head(10))\n",
    "print ((\"-\"*40))\n",
    "print (df.info())"
   ]
  },
  {
   "cell_type": "code",
   "execution_count": 7,
   "metadata": {},
   "outputs": [
    {
     "name": "stdout",
     "output_type": "stream",
     "text": [
      "Split Allocation ---------------------\n",
      "training: 16890\n",
      "validation: 4223\n",
      "testing: 9049\n"
     ]
    }
   ],
   "source": [
    "X= df.drop(['salary'],axis=1)\n",
    "y=df['salary']\n",
    "\n",
    "split_size=0.3\n",
    "\n",
    "# 70 / 30 Train-Test Split\n",
    "(X_train, X_test, y_train, y_test) = train_test_split(X,y,test_size=split_size,random_state=22)\n",
    "\n",
    "# 80 / 20 Train / Validation Split\n",
    "(X_train, X_val, y_train, y_val) = train_test_split(X_train,y_train,test_size=0.2,random_state=5)\n",
    "\n",
    "#SPLIT ALLOCATION\n",
    "print(\"Split Allocation ---------------------\")\n",
    "print(\"training: {}\".format(len(y_train)))\n",
    "print(\"validation: {}\".format(len(y_val)))\n",
    "print(\"testing: {}\".format(len(y_test)))"
   ]
  },
  {
   "cell_type": "code",
   "execution_count": 8,
   "metadata": {},
   "outputs": [
    {
     "name": "stdout",
     "output_type": "stream",
     "text": [
      "d=13 achieved highest accuracy of 83.54% on validation data\n"
     ]
    }
   ],
   "source": [
    "depth_val = range(1, 20)\n",
    "forest_accuracies = []\n",
    "    # loop over various values of d\n",
    "for k in range(1, 20):\n",
    "    # train the random forest Classifier with depth\n",
    "    model = RandomForestClassifier(n_estimators=100,max_depth=k)\n",
    "    model.fit(X_train, y_train)\n",
    " \n",
    "    # evaluation of model\n",
    "    score = model.score(X_val, y_val)\n",
    "    #print(\"k=%d, accuracy=%.2f%%\" % (k, score * 100))\n",
    "    forest_accuracies.append(score)\n",
    " \n",
    "# highest accuracy\n",
    "i = int(np.argmax(forest_accuracies))\n",
    "print(\"d=%d achieved highest accuracy of %.2f%% on validation data\" % (depth_val[i],\n",
    "forest_accuracies[i] * 100))\n",
    "\n"
   ]
  },
  {
   "cell_type": "code",
   "execution_count": 9,
   "metadata": {},
   "outputs": [],
   "source": [
    "#Create a Gaussian Classifier\n",
    "clf=RandomForestClassifier(n_estimators=100,max_depth=depth_val[i])\n",
    "\n",
    "#Train the model using the training sets y_pred=clf.predict(X_test)\n",
    "\n",
    "clf.fit(X_test,y_test)\n",
    "random_forest_predictions=clf.predict(X_test)"
   ]
  },
  {
   "cell_type": "code",
   "execution_count": 10,
   "metadata": {},
   "outputs": [
    {
     "name": "stdout",
     "output_type": "stream",
     "text": [
      "Random Forest Score\n",
      "              precision    recall  f1-score   support\n",
      "\n",
      "           0       0.88      0.70      0.78      2243\n",
      "           1       0.91      0.97      0.94      6806\n",
      "\n",
      "   micro avg       0.90      0.90      0.90      9049\n",
      "   macro avg       0.89      0.83      0.86      9049\n",
      "weighted avg       0.90      0.90      0.90      9049\n",
      "\n",
      "Accuracy: 0.9014255718863963\n"
     ]
    }
   ],
   "source": [
    "# report\n",
    "from sklearn import metrics\n",
    "from sklearn.metrics import classification_report\n",
    "\n",
    "print(\"Random Forest Score\")\n",
    "print(classification_report(y_test, random_forest_predictions))\n",
    "print(\"Accuracy:\",metrics.accuracy_score(y_test, random_forest_predictions))\n"
   ]
  },
  {
   "cell_type": "markdown",
   "metadata": {},
   "source": [
    "## SVM"
   ]
  },
  {
   "cell_type": "code",
   "execution_count": 11,
   "metadata": {},
   "outputs": [],
   "source": [
    "from sklearn.svm import SVC  \n",
    "\n",
    "cost_val = range(1, 5)\n",
    "gamma_val = range(1, 5)\n",
    "svc_accuracies = []\n",
    "    # loop over various values of d\n",
    "    \n",
    "for k in range(1, 5):\n",
    "    # train the random forest Classifier with depth\n",
    "    model = SVC(C=2,kernel='rbf',gamma=1) \n",
    "    model.fit(X_train, y_train) \n",
    " \n",
    "    # evaluation of model\n",
    "    score = model.score(X_val, y_val)\n",
    "    #print(\"k=%d, accuracy=%.2f%%\" % (k, score * 100))\n",
    "    svc_accuracies.append(score)\n",
    " \n",
    "# highest accuracy\n",
    "#i = int(np.argmax(svc_accuracies))\n",
    "#print(\"g=%d achieved highest accuracy of %.2f%% on validation data\" % (gamma_val[i],\n",
    "#svc_accuracies[i] * 100))\n"
   ]
  },
  {
   "cell_type": "code",
   "execution_count": 12,
   "metadata": {},
   "outputs": [],
   "source": [
    "#Create a Gaussian Classifier\n",
    "clf=SVC(C=2,kernel='rbf',gamma=1) \n",
    "\n",
    "#Train the model using the training sets y_pred=clf.predict(X_test)\n",
    "\n",
    "clf.fit(X_test,y_test)\n",
    "SVC_predictions=clf.predict(X_test)"
   ]
  },
  {
   "cell_type": "code",
   "execution_count": 13,
   "metadata": {},
   "outputs": [
    {
     "name": "stdout",
     "output_type": "stream",
     "text": [
      "Support Vector Machine\n",
      "              precision    recall  f1-score   support\n",
      "\n",
      "           0       1.00      1.00      1.00      2243\n",
      "           1       1.00      1.00      1.00      6806\n",
      "\n",
      "   micro avg       1.00      1.00      1.00      9049\n",
      "   macro avg       1.00      1.00      1.00      9049\n",
      "weighted avg       1.00      1.00      1.00      9049\n",
      "\n",
      "Accuracy: 0.9996684716543265\n"
     ]
    }
   ],
   "source": [
    "print(\"Support Vector Machine\")\n",
    "print(classification_report(y_test, SVC_predictions))\n",
    "print(\"Accuracy:\",metrics.accuracy_score(y_test, SVC_predictions))"
   ]
  }
 ],
 "metadata": {
  "kernelspec": {
   "display_name": "Python 3",
   "language": "python",
   "name": "python3"
  },
  "language_info": {
   "codemirror_mode": {
    "name": "ipython",
    "version": 3
   },
   "file_extension": ".py",
   "mimetype": "text/x-python",
   "name": "python",
   "nbconvert_exporter": "python",
   "pygments_lexer": "ipython3",
   "version": "3.7.3"
  }
 },
 "nbformat": 4,
 "nbformat_minor": 2
}
