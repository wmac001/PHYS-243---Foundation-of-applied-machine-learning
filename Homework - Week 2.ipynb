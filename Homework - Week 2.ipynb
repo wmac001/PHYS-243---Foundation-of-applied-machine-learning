{
 "cells": [
  {
   "cell_type": "markdown",
   "metadata": {},
   "source": [
    "# Problem 1: Find the Distribution!"
   ]
  },
  {
   "cell_type": "code",
   "execution_count": 584,
   "metadata": {},
   "outputs": [],
   "source": [
    "import numpy as np\n",
    "import math\n",
    "from math import factorial\n",
    "import matplotlib.pyplot as plt"
   ]
  },
  {
   "cell_type": "code",
   "execution_count": 585,
   "metadata": {},
   "outputs": [],
   "source": [
    "\n",
    "accidents = np.array([16,24,16,12,16,11,14,15,9,14,7])"
   ]
  },
  {
   "cell_type": "markdown",
   "metadata": {},
   "source": [
    "Assume a range of 0 - 50 accidents"
   ]
  },
  {
   "cell_type": "code",
   "execution_count": 586,
   "metadata": {},
   "outputs": [],
   "source": [
    "x_span = np.arange(0, 50)"
   ]
  },
  {
   "cell_type": "markdown",
   "metadata": {},
   "source": [
    "Find the mean of dataset"
   ]
  },
  {
   "cell_type": "code",
   "execution_count": 587,
   "metadata": {},
   "outputs": [
    {
     "data": {
      "text/plain": [
       "14.0"
      ]
     },
     "execution_count": 587,
     "metadata": {},
     "output_type": "execute_result"
    }
   ],
   "source": [
    "mu = np.mean(accidents)\n",
    "mu"
   ]
  },
  {
   "cell_type": "markdown",
   "metadata": {},
   "source": [
    "Find the variance of the dataset then square it."
   ]
  },
  {
   "cell_type": "code",
   "execution_count": 588,
   "metadata": {},
   "outputs": [
    {
     "data": {
      "text/plain": [
       "4.264014327112209"
      ]
     },
     "execution_count": 588,
     "metadata": {},
     "output_type": "execute_result"
    }
   ],
   "source": [
    "sigma = np.std(accidents)\n",
    "sigma"
   ]
  },
  {
   "cell_type": "markdown",
   "metadata": {},
   "source": [
    "Assume poisson distribution"
   ]
  },
  {
   "cell_type": "code",
   "execution_count": 589,
   "metadata": {},
   "outputs": [],
   "source": [
    "def Poisson_prob(k, _mu=0):\n",
    "    return (math.exp(-_mu) * _mu**k / factorial(k))"
   ]
  },
  {
   "cell_type": "code",
   "execution_count": 590,
   "metadata": {},
   "outputs": [],
   "source": [
    "prob_list = [Poisson_prob(x, mu) for x in x_span2] # can be used for any iterable object\n",
    "#prob_np_array = Gaussian_prob(x_span, mu, sigma) -- Can only be used for np array and not lists"
   ]
  },
  {
   "cell_type": "code",
   "execution_count": 591,
   "metadata": {},
   "outputs": [
    {
     "data": {
      "text/plain": [
       "[<matplotlib.lines.Line2D at 0x17dcfa6d1d0>]"
      ]
     },
     "execution_count": 591,
     "metadata": {},
     "output_type": "execute_result"
    },
    {
     "data": {
      "image/png": "[encoded data removed]",
      "text/plain": [
       "<Figure size 432x288 with 1 Axes>"
      ]
     },
     "metadata": {
      "needs_background": "light"
     },
     "output_type": "display_data"
    }
   ],
   "source": [
    "plt.plot(x_span, prob_list)"
   ]
  },
  {
   "cell_type": "markdown",
   "metadata": {},
   "source": [
    "# Problem 2: Find the parameters!"
   ]
  },
  {
   "cell_type": "code",
   "execution_count": 761,
   "metadata": {},
   "outputs": [],
   "source": [
    "import numpy as np\n",
    "import matplotlib.pyplot as plt"
   ]
  },
  {
   "cell_type": "code",
   "execution_count": 762,
   "metadata": {},
   "outputs": [],
   "source": [
    "mu_list=[10,15,4,5,6,10]\n",
    "sigma_list=[1,5,2,5,6,7]\n",
    "\n",
    "mu_vec = np.array(mu_list) #mu vector\n",
    "sigma_vec = np.array(sigma_list) #sigma vector\n",
    "\n"
   ]
  },
  {
   "cell_type": "code",
   "execution_count": 763,
   "metadata": {},
   "outputs": [],
   "source": [
    "def three_gaussian(mu = [], sigma = []):\n",
    "    return (mu[0]*sigma[1]**2+mu[1]*sigma[0]**2+mu[0]*sigma[2]**2+mu[1]*sigma[2]**2)/(sigma[0]**2+sigma[1]**2+sigma[2]**2), (sigma[0]*sigma[1]*sigma[2])/np.sqrt(sigma[0]**2+sigma[1]**2+sigma[2]**2)\n",
    "\n",
    "def two_gaussian(mu = [], sigma = []):\n",
    "    return (mu[0]*sigma[1]**2+mu[1]*sigma[0]**2)/(sigma[0]**2+sigma[1]**2), (sigma[1]*sigma[0])/np.sqrt(sigma[0]**2+sigma[1]**2)\n",
    "\n",
    "def single_gaussian(mu = [], sigma = []):\n",
    "    return (mu[0],sigma[0])\n",
    "\n",
    "def multi_gaussian_loop (mu = [], sigma = []):\n",
    "    \n",
    "    count = 0\n",
    "\n",
    "    mu_0 = (mu[0]*sigma[1]**2+mu[1]*sigma[0]**2)/(sigma[0]**2+sigma[1]**2)\n",
    "    sigma_0 = (sigma[1]*sigma[0])/np.sqrt(sigma[0]**2+sigma[1]**2)    \n",
    "\n",
    "    #for m in range (count,len(mu)):\n",
    "    for m, s in zip(mu,sigma):\n",
    "        \n",
    "        if len(mu) == 1:\n",
    "            return mu,sigma\n",
    "        elif len(mu) == 2:\n",
    "            return mu_0,sigma_0\n",
    "        else:\n",
    "            mu_1 = mu_0\n",
    "            sigma_1 = sigma_0\n",
    "            mu_2 = mu[count]\n",
    "            sigma_2 = sigma[count]\n",
    "            mu_1 = (mu_1*sigma_2**2+mu_2*sigma_1**2)/(sigma_1**2+sigma_2**2)\n",
    "            sigma_1 = (sigma_2*sigma_1)/np.sqrt(sigma_1**2+sigma_2**2)\n",
    "            count =+ 1\n",
    "            \n",
    "    return(mu_1, sigma_1)\n"
   ]
  },
  {
   "cell_type": "code",
   "execution_count": 764,
   "metadata": {},
   "outputs": [
    {
     "data": {
      "text/plain": [
       "(10.37037037037037, 0.9622504486493764)"
      ]
     },
     "execution_count": 764,
     "metadata": {},
     "output_type": "execute_result"
    }
   ],
   "source": [
    "multi_gaussian_loop(mu_vec, sigma_vec)\n",
    "#two_gaussian(mu_vec,sigma_vec)"
   ]
  },
  {
   "cell_type": "code",
   "execution_count": null,
   "metadata": {},
   "outputs": [],
   "source": []
  }
 ],
 "metadata": {
  "kernelspec": {
   "display_name": "Python 3",
   "language": "python",
   "name": "python3"
  },
  "language_info": {
   "codemirror_mode": {
    "name": "ipython",
    "version": 3
   },
   "file_extension": ".py",
   "mimetype": "text/x-python",
   "name": "python",
   "nbconvert_exporter": "python",
   "pygments_lexer": "ipython3",
   "version": "3.7.3"
  }
 },
 "nbformat": 4,
 "nbformat_minor": 2
}
