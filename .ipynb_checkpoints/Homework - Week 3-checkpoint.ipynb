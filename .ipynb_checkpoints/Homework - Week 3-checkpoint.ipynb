{
 "cells": [
  {
   "cell_type": "markdown",
   "metadata": {},
   "source": [
    "## Homework 3: Total: 90/100\n",
    "\n",
    "+ 10% on-time + 20% Object oriented \n",
    "\n",
    "## Final grade: 117/100"
   ]
  },
  {
   "cell_type": "markdown",
   "metadata": {},
   "source": [
    "##  1. Find the probability for the case of l > t.\n"
   ]
  },
  {
   "cell_type": "markdown",
   "metadata": {},
   "source": []
  },
  {
   "cell_type": "markdown",
   "metadata": {},
   "source": [
    "\\begin{align}\n",
    "\\int_{\\theta=0}^\\frac{\\pi}{2}\\int_{x=0}^{m(\\theta)}\\frac{4}{t\\pi}dxd\\theta\\\\\n",
    "\\end{align}\n",
    "\n",
    "where m(theta) between \n",
    "\\begin{align} \\frac{l}{2}cos\\theta \\end{align} AND\n",
    "\\begin{align} \\frac{t}{2}  \\end{align}\n"
   ]
  },
  {
   "cell_type": "markdown",
   "metadata": {},
   "source": [
    "\\begin{align}\n",
    "&P(l>t) = \\frac{2}{\\pi}\\cos^{-1}\\frac{t}{l}+\\frac{2}{\\pi}\\frac{l}{t}\\{1-\\sqrt{1-(\\frac{t}{l})^2}\\}\n",
    "\\end{align}"
   ]
  },
  {
   "cell_type": "markdown",
   "metadata": {},
   "source": [
    "## 2. Find the probability using Monte Carlo simulation for l < t, for the general case \n",
    "# AND\n",
    "## Find the value of the π using some special case (e.g. l = 2, and t = 3)"
   ]
  },
  {
   "cell_type": "code",
   "execution_count": 3,
   "metadata": {},
   "outputs": [],
   "source": [
    "import numpy as np"
   ]
  },
  {
   "cell_type": "code",
   "execution_count": 4,
   "metadata": {},
   "outputs": [],
   "source": [
    "import random\n",
    "\n",
    "class Buffon_needle:\n",
    "    def __init__(self,l,t,n,m):\n",
    "        self.l = float(l)  #needle length\n",
    "        self.t = float(t)  #space width\n",
    "        self.d = [] #center of needle\n",
    "        self.a = [] #angle of needle\n",
    "        self.n = n  # of throws\n",
    "        self.m = m  # of simulations\n",
    "        self.p = self.l/self.t\n",
    "        self.pi_approx = []\n",
    "        self.h = 0\n",
    "        self.rate = []\n",
    "    def simulation(self):\n",
    "        # m simulation\n",
    "        for j in range(self.m):\n",
    "            # n throw\n",
    "            self.h = 0\n",
    "            for i in range(self.n):\n",
    "                #self.samples()\n",
    "                d = np.random.uniform(0, self.t/2)\n",
    "                self.d.append(d)\n",
    "                theta = np.random.uniform(0, np.pi/2)\n",
    "                self.a.append(theta)\n",
    "                #condition for a hit\n",
    "                if d <= self.l/2*np.sin(theta):\n",
    "                    self.h += 1\n",
    "                else:\n",
    "                    continue\n",
    "                #if self.c[i]+self.a[i]>=self.t or self.c[i]-self.a[i]<0.:\n",
    "                    #self.h += 1\n",
    "                #else:\n",
    "                    #continue\n",
    "            est =self.p*2*float(self.n)/float(self.h)\n",
    "            self.pi_approx.append(est)\n",
    "            self.rate.append(self.h/self.n)\n",
    "        return self.pi_approx\n",
    "    def probability(self):\n",
    "        # probability given l and t\n",
    "        self.simulation()\n",
    "        return self.rate\n",
    "        \n",
    "            \n",
    "            \n",
    "            \n"
   ]
  },
  {
   "cell_type": "code",
   "execution_count": 5,
   "metadata": {},
   "outputs": [
    {
     "name": "stdout",
     "output_type": "stream",
     "text": [
      "[0.33125, 0.28125, 0.31625, 0.2925, 0.30375]\n"
     ]
    }
   ],
   "source": [
    "\n",
    "\n",
    "\n",
    "y = Buffon_needle(1,2,800,5)\n",
    "print (y.probability())"
   ]
  },
  {
   "cell_type": "code",
   "execution_count": 6,
   "metadata": {},
   "outputs": [
    {
     "name": "stdout",
     "output_type": "stream",
     "text": [
      "[3.1479858301287815, 3.147289200470519, 3.1411073777741128, 3.144969326721035, 3.1431992464179803]\n"
     ]
    }
   ],
   "source": [
    "\n",
    "y = Buffon_needle(2,3,800000,5)\n",
    "print (y.simulation())"
   ]
  },
  {
   "cell_type": "code",
   "execution_count": 7,
   "metadata": {},
   "outputs": [
    {
     "data": {
      "text/plain": [
       "[3.1479858301287815,\n",
       " 3.147289200470519,\n",
       " 3.1411073777741128,\n",
       " 3.144969326721035,\n",
       " 3.1431992464179803]"
      ]
     },
     "execution_count": 7,
     "metadata": {},
     "output_type": "execute_result"
    }
   ],
   "source": [
    "y.pi_approx"
   ]
  },
  {
   "cell_type": "markdown",
   "metadata": {},
   "source": [
    "## 3. Find the probability using Monte Carlo simulation (l > t) for the general case.\n"
   ]
  },
  {
   "cell_type": "code",
   "execution_count": 8,
   "metadata": {},
   "outputs": [],
   "source": [
    "import random\n",
    "import itertools\n",
    "import numpy as np\n",
    "import matplotlib.pyplot as plt\n",
    "\n",
    "class Buffon_needle:\n",
    "    def __init__(self,l,t,n,m):\n",
    "        self.l = float(l)  #needle length\n",
    "        self.t = float(t)  #space width\n",
    "        self.d = [] #center of needle\n",
    "        self.a = [] #angle of needle\n",
    "        self.n = n  # of throws\n",
    "        self.m = m  # of simulations\n",
    "        self.p = self.l/self.t\n",
    "        self.pi_approx = []\n",
    "        self.h = 0\n",
    "        self.rate = []\n",
    "        self.ltplot = []\n",
    "        self.rateplot = []\n",
    "        self.analytic = []\n",
    "    def simulation(self):\n",
    "        #self.samples()\n",
    "        d = np.random.uniform(0, self.t/2)\n",
    "        self.d.append(d)\n",
    "        theta = np.random.uniform(0, np.pi/2)\n",
    "        self.a.append(theta)\n",
    "        #condition for a hit\n",
    "        if d <= self.l/2*np.sin(theta):\n",
    "            self.h += 1\n",
    "        #if self.c[i]+self.a[i]>=self.t or self.c[i]-self.a[i]<0.:\n",
    "            #self.h += 1\n",
    "        #else:\n",
    "            #continue\n",
    "        \n",
    "    def run_simulation(self):\n",
    "         # m simulation\n",
    "        for j in range(self.m):\n",
    "            # n throw\n",
    "            self.h = 0\n",
    "            for i in range(self.n):\n",
    "                self.simulation()\n",
    "            est =self.p*2*float(self.n)/float(self.h)\n",
    "            self.pi_approx.append(est)\n",
    "            self.rate.append(self.h/self.n)\n",
    "        return self.pi_approx\n",
    "    \n",
    "    def probability(self):\n",
    "        # probability given l and t\n",
    "        self.run_simulation()\n",
    "        return self.rate\n",
    "    def run_simulation_plot(self):\n",
    "        # m simulation\n",
    "        for j in range(self.m):\n",
    "            # n throw\n",
    "            self.h = 0\n",
    "            (t) = random.choice(np.arange(0, 100,1))\n",
    "            (l) = random.choice(np.arange(0, 100,1))\n",
    "            while l < t:\n",
    "                (l) =  random.choice(np.arange(0, 1000,1))\n",
    "            self.t = t\n",
    "            self.l = l\n",
    "            for i in range(self.n):\n",
    "                self.simulation()\n",
    "            self.ltplot.append(self.l/self.t)\n",
    "            self.rateplot.append(self.h/self.n)\n",
    "            flt=1/((2/np.pi)*(np.cos(self.t/self.l)**-1)+(2/np.pi)*(self.l/self.t)* (1 - np.sqrt(1-((self.t/self.l)**2))))\n",
    "            if flt > 1:\n",
    "                self.analytic.append(1)\n",
    "            else:\n",
    "                self.analytic.append(flt)\n",
    "            \n",
    "        new_ltplot, new_rateplot = zip(*sorted(zip(self.ltplot, self.rateplot)))\n",
    "        plt.plot(new_ltplot,new_rateplot)\n",
    "        plt.show()\n",
    "        \n",
    "        \n",
    "    def run_simulation_plot_analytic(self):\n",
    "        self.run_simulation_plot()\n",
    "        new_ltplot, new_rateplot = zip(*sorted(zip(self.ltplot, self.analytic)))\n",
    "        plt.plot(new_ltplot,new_rateplot)\n",
    "        plt.show()\n",
    "        \n"
   ]
  },
  {
   "cell_type": "code",
   "execution_count": 10,
   "metadata": {},
   "outputs": [
    {
     "name": "stdout",
     "output_type": "stream",
     "text": [
      "[0.93775, 0.935375, 0.92875, 0.934, 0.93675]\n"
     ]
    }
   ],
   "source": [
    "y = Buffon_needle(10,2,8000,5)\n",
    "print (y.probability())"
   ]
  },
  {
   "cell_type": "code",
   "execution_count": 11,
   "metadata": {},
   "outputs": [
    {
     "data": {
      "text/plain": [
       "[10.663822980538523,\n",
       " 10.690899371909662,\n",
       " 10.767160161507402,\n",
       " 10.70663811563169,\n",
       " 10.675206832132373]"
      ]
     },
     "execution_count": 11,
     "metadata": {},
     "output_type": "execute_result"
    }
   ],
   "source": [
    "y.pi_approx"
   ]
  },
  {
   "cell_type": "markdown",
   "metadata": {},
   "source": [
    "## 4. After writing your general code in Part 3 plot the Probability vs l/t ratio.\n"
   ]
  },
  {
   "cell_type": "code",
   "execution_count": 13,
   "metadata": {},
   "outputs": [
    {
     "name": "stderr",
     "output_type": "stream",
     "text": [
      "/home/abtin/Documents/my_virt_envs/phys_py3/lib/python3.7/site-packages/ipykernel_launcher.py:64: RuntimeWarning: divide by zero encountered in long_scalars\n",
      "/home/abtin/Documents/my_virt_envs/phys_py3/lib/python3.7/site-packages/ipykernel_launcher.py:66: RuntimeWarning: divide by zero encountered in long_scalars\n",
      "/home/abtin/Documents/my_virt_envs/phys_py3/lib/python3.7/site-packages/ipykernel_launcher.py:66: RuntimeWarning: invalid value encountered in double_scalars\n"
     ]
    },
    {
     "data": {
      "image/png": "[encoded data removed]",
      "text/plain": [
       "<Figure size 432x288 with 1 Axes>"
      ]
     },
     "metadata": {
      "needs_background": "light"
     },
     "output_type": "display_data"
    },
    {
     "name": "stdout",
     "output_type": "stream",
     "text": [
      "None\n"
     ]
    }
   ],
   "source": [
    "l, t = 1, 2\n",
    "\n",
    "y = Buffon_needle(l,t,80000,40)\n",
    "\n",
    "print (y.run_simulation_plot())\n"
   ]
  },
  {
   "cell_type": "markdown",
   "metadata": {},
   "source": [
    "## 5. Plot the analytic formula for P(l/t) along side your previous result and comment on\n",
    "## the result."
   ]
  },
  {
   "cell_type": "markdown",
   "metadata": {},
   "source": []
  },
  {
   "cell_type": "code",
   "execution_count": 35,
   "metadata": {},
   "outputs": [
    {
     "data": {
      "image/png": "[encoded data removed]",
      "text/plain": [
       "<Figure size 432x288 with 1 Axes>"
      ]
     },
     "metadata": {
      "needs_background": "light"
     },
     "output_type": "display_data"
    },
    {
     "data": {
      "image/png": "[encoded data removed]",
      "text/plain": [
       "<Figure size 432x288 with 1 Axes>"
      ]
     },
     "metadata": {
      "needs_background": "light"
     },
     "output_type": "display_data"
    },
    {
     "name": "stdout",
     "output_type": "stream",
     "text": [
      "None\n"
     ]
    }
   ],
   "source": [
    "y = Buffon_needle(l,t,80000,40)\n",
    "\n",
    "print (y.run_simulation_plot_analytic())"
   ]
  },
  {
   "cell_type": "markdown",
   "metadata": {},
   "source": [
    "### Your plots should have been covered the smaller range so you can actually compare them. and you should drwa them on top of each other"
   ]
  },
  {
   "cell_type": "code",
   "execution_count": null,
   "metadata": {},
   "outputs": [],
   "source": []
  }
 ],
 "metadata": {
  "kernelspec": {
   "display_name": "Python 3",
   "language": "python",
   "name": "python3"
  },
  "language_info": {
   "codemirror_mode": {
    "name": "ipython",
    "version": 3
   },
   "file_extension": ".py",
   "mimetype": "text/x-python",
   "name": "python",
   "nbconvert_exporter": "python",
   "pygments_lexer": "ipython3",
   "version": "3.7.3"
  }
 },
 "nbformat": 4,
 "nbformat_minor": 2
}
