{
 "cells": [
  {
   "cell_type": "markdown",
   "metadata": {},
   "source": [
    "# Problem 1: Find the Distribution!"
   ]
  },
  {
   "cell_type": "markdown",
   "metadata": {},
   "source": [
    "### Your approach is frequentist and correct but in this course we are trying to think Bayesian. So, re-think the problem in a Bayesian framework. (Instead of saying that the $\\mu$ is coming from the average of the data points, you should build a model (here is the Poisson distribution) and then go through numbers of different values for the parameters and then try to find the value for which the likelyhood of getting these data is maximum."
   ]
  },
  {
   "cell_type": "code",
   "execution_count": 1,
   "metadata": {},
   "outputs": [],
   "source": [
    "import numpy as np\n",
    "import math\n",
    "from math import factorial\n",
    "import matplotlib.pyplot as plt"
   ]
  },
  {
   "cell_type": "code",
   "execution_count": 2,
   "metadata": {},
   "outputs": [],
   "source": [
    "\n",
    "accidents = np.array([16,24,16,12,16,11,14,15,9,14,7])"
   ]
  },
  {
   "cell_type": "markdown",
   "metadata": {},
   "source": [
    "Assume a range of 0 - 50 accidents"
   ]
  },
  {
   "cell_type": "code",
   "execution_count": 10,
   "metadata": {},
   "outputs": [],
   "source": [
    "x_span = np.arange(0, 50)"
   ]
  },
  {
   "cell_type": "markdown",
   "metadata": {},
   "source": [
    "Find the mean of dataset"
   ]
  },
  {
   "cell_type": "code",
   "execution_count": 4,
   "metadata": {},
   "outputs": [
    {
     "data": {
      "text/plain": [
       "14.0"
      ]
     },
     "execution_count": 4,
     "metadata": {},
     "output_type": "execute_result"
    }
   ],
   "source": [
    "mu = np.mean(accidents)\n",
    "mu"
   ]
  },
  {
   "cell_type": "markdown",
   "metadata": {},
   "source": [
    "Find the variance of the dataset then square it."
   ]
  },
  {
   "cell_type": "code",
   "execution_count": 5,
   "metadata": {},
   "outputs": [
    {
     "data": {
      "text/plain": [
       "4.264014327112209"
      ]
     },
     "execution_count": 5,
     "metadata": {},
     "output_type": "execute_result"
    }
   ],
   "source": [
    "sigma = np.std(accidents)\n",
    "sigma"
   ]
  },
  {
   "cell_type": "markdown",
   "metadata": {},
   "source": [
    "Assume poisson distribution"
   ]
  },
  {
   "cell_type": "code",
   "execution_count": 9,
   "metadata": {},
   "outputs": [],
   "source": [
    "def Poisson_prob(k, _mu=0):\n",
    "    return (math.exp(-_mu) * _mu**k / factorial(k))"
   ]
  },
  {
   "cell_type": "code",
   "execution_count": 11,
   "metadata": {},
   "outputs": [],
   "source": [
    "prob_list = [Poisson_prob(x, mu) for x in x_span] # can be used for any iterable object\n",
    "#prob_np_array = Gaussian_prob(x_span, mu, sigma) -- Can only be used for np array and not lists"
   ]
  },
  {
   "cell_type": "code",
   "execution_count": 12,
   "metadata": {},
   "outputs": [
    {
     "data": {
      "text/plain": [
       "[<matplotlib.lines.Line2D at 0x7ff61b34f400>]"
      ]
     },
     "execution_count": 12,
     "metadata": {},
     "output_type": "execute_result"
    },
    {
     "data": {
      "image/png": "[encoded data removed]",
      "text/plain": [
       "<Figure size 432x288 with 1 Axes>"
      ]
     },
     "metadata": {
      "needs_background": "light"
     },
     "output_type": "display_data"
    }
   ],
   "source": [
    "plt.plot(x_span, prob_list)"
   ]
  },
  {
   "cell_type": "markdown",
   "metadata": {},
   "source": [
    "# Problem 2: Find the parameters!"
   ]
  },
  {
   "cell_type": "code",
   "execution_count": 13,
   "metadata": {},
   "outputs": [],
   "source": [
    "import numpy as np\n",
    "import matplotlib.pyplot as plt"
   ]
  },
  {
   "cell_type": "code",
   "execution_count": 14,
   "metadata": {},
   "outputs": [],
   "source": [
    "mu_list=[10,15,4,5,6,10]\n",
    "sigma_list=[1,5,2,5,6,7]\n",
    "\n",
    "mu_vec = np.array(mu_list) #mu vector\n",
    "sigma_vec = np.array(sigma_list) #sigma vector\n",
    "\n"
   ]
  },
  {
   "cell_type": "code",
   "execution_count": 17,
   "metadata": {},
   "outputs": [],
   "source": [
    "def three_gaussian(mu = [], sigma = []):\n",
    "    return (mu[0]*sigma[1]**2+mu[1]*sigma[0]**2+mu[0]*sigma[2]**2+mu[1]*sigma[2]**2)/(sigma[0]**2+sigma[1]**2+sigma[2]**2), (sigma[0]*sigma[1]*sigma[2])/np.sqrt(sigma[0]**2+sigma[1]**2+sigma[2]**2)\n",
    "\n",
    "def two_gaussian(mu = [], sigma = []):\n",
    "    return (mu[0]*sigma[1]**2+mu[1]*sigma[0]**2)/(sigma[0]**2+sigma[1]**2), (sigma[1]*sigma[0])/np.sqrt(sigma[0]**2+sigma[1]**2)\n",
    "\n",
    "def single_gaussian(mu = [], sigma = []):\n",
    "    return (mu[0],sigma[0])\n",
    "\n",
    "def multi_gaussian_loop (mu = [], sigma = []):\n",
    "    \n",
    "    count = 0\n",
    "\n",
    "    mu_0 = (mu[0]*sigma[1]**2+mu[1]*sigma[0]**2)/(sigma[0]**2+sigma[1]**2)\n",
    "    sigma_0 = (sigma[1]*sigma[0])/np.sqrt(sigma[0]**2+sigma[1]**2)    \n",
    "\n",
    "    #for m in range (count,len(mu)):\n",
    "    for m, s in zip(mu,sigma):\n",
    "        \n",
    "        if len(mu) == 1:\n",
    "            return mu,sigma\n",
    "        elif len(mu) == 2:\n",
    "            return mu_0,sigma_0\n",
    "        else:\n",
    "            mu_1 = mu_0\n",
    "            sigma_1 = sigma_0\n",
    "            mu_2 = mu[count]\n",
    "            sigma_2 = sigma[count]\n",
    "            mu_1 = (mu_1*sigma_2**2+mu_2*sigma_1**2)/(sigma_1**2+sigma_2**2)\n",
    "            sigma_1 = (sigma_2*sigma_1)/np.sqrt(sigma_1**2+sigma_2**2)\n",
    "            count =+ 1\n",
    "            \n",
    "    return(mu_1, sigma_1)\n"
   ]
  },
  {
   "cell_type": "code",
   "execution_count": 18,
   "metadata": {},
   "outputs": [
    {
     "data": {
      "text/plain": [
       "(10.37037037037037, 0.9622504486493764)"
      ]
     },
     "execution_count": 18,
     "metadata": {},
     "output_type": "execute_result"
    }
   ],
   "source": [
    "multi_gaussian_loop(mu_vec, sigma_vec)\n",
    "#two_gaussian(mu_vec,sigma_vec)"
   ]
  },
  {
   "cell_type": "code",
   "execution_count": null,
   "metadata": {},
   "outputs": [],
   "source": []
  }
 ],
 "metadata": {
  "kernelspec": {
   "display_name": "Python 3",
   "language": "python",
   "name": "python3"
  },
  "language_info": {
   "codemirror_mode": {
    "name": "ipython",
    "version": 3
   },
   "file_extension": ".py",
   "mimetype": "text/x-python",
   "name": "python",
   "nbconvert_exporter": "python",
   "pygments_lexer": "ipython3",
   "version": "3.7.3"
  }
 },
 "nbformat": 4,
 "nbformat_minor": 2
}
