{
 "cells": [
  {
   "cell_type": "markdown",
   "metadata": {},
   "source": [
    "# Homework 1\n",
    "\n",
    "### Total: 80/100\n",
    "* Problem 1: 30/40 \n",
    "* Problem 2: 30/40\n",
    "* Problem 3: 20/20"
   ]
  },
  {
   "cell_type": "markdown",
   "metadata": {},
   "source": [
    "## Problem 1: Python programming"
   ]
  },
  {
   "cell_type": "markdown",
   "metadata": {},
   "source": [
    "### Part 1: Rewrite the function with for loop"
   ]
  },
  {
   "cell_type": "code",
   "execution_count": 1,
   "metadata": {},
   "outputs": [],
   "source": [
    "def Fib_rec (n=0):\n",
    "    if n==0:\n",
    "        return 1\n",
    "    elif n==1:\n",
    "        return 1\n",
    "    else:\n",
    "        return Fib_rec(n-1)+Fib_rec(n-2)\n"
   ]
  },
  {
   "cell_type": "code",
   "execution_count": 3,
   "metadata": {
    "scrolled": true
   },
   "outputs": [
    {
     "data": {
      "text/plain": [
       "14930352"
      ]
     },
     "execution_count": 3,
     "metadata": {},
     "output_type": "execute_result"
    }
   ],
   "source": [
    "Fib_rec(35)"
   ]
  },
  {
   "cell_type": "code",
   "execution_count": 2,
   "metadata": {},
   "outputs": [],
   "source": [
    "def Fib_rec_loop (n=0):\n",
    "    n1 = 0\n",
    "    n2 = 1\n",
    "    fs = 0\n",
    "    count = 0\n",
    "\n",
    "    if n==0:\n",
    "        return(1)\n",
    "    elif n==1:\n",
    "        return(1)\n",
    "    else:\n",
    "        for n in range (count,n):\n",
    "            #print(n1,end=' , ') #show all sequence\n",
    "            nth = n1 + n2\n",
    "            # update values\n",
    "            n1 = n2 \n",
    "            n2 = nth\n",
    "            fs = 0 + nth\n",
    "            count += 1\n",
    "            \n",
    "    print(fs)\n",
    "    "
   ]
  },
  {
   "cell_type": "code",
   "execution_count": 5,
   "metadata": {},
   "outputs": [
    {
     "name": "stdout",
     "output_type": "stream",
     "text": [
      "14930352\n"
     ]
    }
   ],
   "source": [
    "Fib_rec_loop(35)"
   ]
  },
  {
   "cell_type": "markdown",
   "metadata": {},
   "source": [
    "### Part 2: Which function is actually faster?"
   ]
  },
  {
   "cell_type": "markdown",
   "metadata": {},
   "source": [
    "I belive the for loop is much faster finding the fibonacci number for larger numbers. The recursive function does not benefit from the use of main memory. The values prior are not stored in main memory so it has to calculate backwards to get it. The for loop keeps the numbers in main memory and is able to come to an answer by adding numbers already in main memory."
   ]
  },
  {
   "cell_type": "markdown",
   "metadata": {},
   "source": [
    "### Part 3: Write a code to time the average time for k times function call."
   ]
  },
  {
   "cell_type": "code",
   "execution_count": 3,
   "metadata": {},
   "outputs": [],
   "source": [
    "\n",
    "import time\n",
    "\n",
    "def timer (f, n, k):\n",
    "    n0 = 0\n",
    "    n1 = 0\n",
    "    n2 = 0\n",
    "    count = 0\n",
    "\n",
    "\n",
    "    for k in range (0,k):\n",
    "        n0=time.time()\n",
    "        f(n)\n",
    "        n1=time.time()-n0\n",
    "        n2=n2+n1\n",
    "        #print(n1,end=' , ') #show all sequence\n",
    "        #print(n2,end=' , ') #show all sequence\n",
    "        count += 1\n",
    "\n",
    "    y = n2/count #average-time\n",
    "    return(y)\n",
    "\n",
    "    \n",
    "    "
   ]
  },
  {
   "cell_type": "markdown",
   "metadata": {},
   "source": [
    "#### **Abtin:**\n",
    "### You could have put your timer outside of the for loop. "
   ]
  },
  {
   "cell_type": "code",
   "execution_count": 4,
   "metadata": {},
   "outputs": [
    {
     "name": "stdout",
     "output_type": "stream",
     "text": [
      "1346269\n",
      "1346269\n",
      "1346269\n",
      "1346269\n",
      "1346269\n"
     ]
    },
    {
     "data": {
      "text/plain": [
       "3.223419189453125e-05"
      ]
     },
     "execution_count": 4,
     "metadata": {},
     "output_type": "execute_result"
    }
   ],
   "source": [
    "import matplotlib.pyplot as plt\n",
    "\n",
    "timer(Fib_rec_loop, 30, 5)"
   ]
  },
  {
   "cell_type": "markdown",
   "metadata": {},
   "source": [
    "### Part 4"
   ]
  },
  {
   "cell_type": "code",
   "execution_count": 5,
   "metadata": {},
   "outputs": [
    {
     "name": "stdout",
     "output_type": "stream",
     "text": [
      "14930352\n",
      "14930352\n",
      "14930352\n",
      "14930352\n",
      "14930352\n",
      "14930352\n",
      "14930352\n",
      "14930352\n",
      "14930352\n",
      "14930352\n"
     ]
    },
    {
     "data": {
      "text/plain": [
       "Text(0.5, 1.0, 'Function Average Run Time')"
      ]
     },
     "execution_count": 5,
     "metadata": {},
     "output_type": "execute_result"
    },
    {
     "data": {
      "image/png": "[encoded data removed]",
      "text/plain": [
       "<Figure size 432x288 with 1 Axes>"
      ]
     },
     "metadata": {
      "needs_background": "light"
     },
     "output_type": "display_data"
    }
   ],
   "source": [
    "import matplotlib.pyplot as plt\n",
    "\n",
    "my_list=[Fib_rec,Fib_rec_loop]\n",
    "\n",
    "n = 35\n",
    "k = 5\n",
    "\n",
    "\n",
    "for i in my_list:\n",
    "    timer(i, n, k)\n",
    "    plt.plot(n,(timer(i, n, k)), '.');\n",
    "    \n",
    "plt.title(r\"Function Average Run Time\")\n",
    "\n",
    "\n",
    "    \n",
    "\n",
    "\n",
    "\n"
   ]
  },
  {
   "cell_type": "markdown",
   "metadata": {},
   "source": [
    "## You should have made a for loop on the different values of n!"
   ]
  },
  {
   "cell_type": "markdown",
   "metadata": {},
   "source": [
    "## Problem 2: Linear Algebra"
   ]
  },
  {
   "cell_type": "markdown",
   "metadata": {},
   "source": [
    "### Part 1: Find the determinant, transpose, inverse(if exist) for M."
   ]
  },
  {
   "cell_type": "markdown",
   "metadata": {},
   "source": [
    "Determinant\n",
    "\n",
    "\\begin{align}\n",
    "&(1*1*(-2))+((-4)*(-2)(2))+((2)(-4)(-2))-((2)*(1)*(2))-((-4)*(-4)*(-2))-(1*(-2)*(-2))\\\\\n",
    "&=-2+16+16-4+32-4\\\\\n",
    "&=58\n",
    "\\end{align}\n",
    "\n",
    "Transpose\n",
    "\\begin{array}{rrrr}\n",
    "(1) & (-4) & (2)\\\\\n",
    "(-4) & (1) & (-2)\\\\\n",
    "(2) & (-2) &  (-2)\\\\\n",
    "\\end{array}\n",
    "\n",
    "\n",
    "\n",
    "\n",
    "-2+4 = 2\n",
    "\n",
    "8+4 = 12\n",
    "\n",
    "8-3 = 5\n",
    "\n",
    "1-8 = -7\n",
    "\n",
    "-2-4 = -6\n",
    "\n",
    "-2+8 = 6\n",
    "\n",
    "8-3 = -5\n",
    "\n",
    "-2+8 = 6\n",
    "\n",
    "8+4 = 12\n",
    "\n",
    "Inverse\n",
    "\n",
    "\\begin{array}{rrrr}\n",
    "(2) & (-7) & (-5)\\\\\n",
    "(12) & (-6) & (6)\\\\\n",
    "(5) & (6) & (12)\\\\\n",
    "\\end{array}\n",
    "\n",
    "\n"
   ]
  },
  {
   "cell_type": "markdown",
   "metadata": {},
   "source": [
    "### Part 2 - Find the eigenvalues and eigenvectors for M.\n"
   ]
  },
  {
   "cell_type": "markdown",
   "metadata": {},
   "source": [
    "Eigen values\n",
    "\\begin{array}{rrrr}\n",
    "(\\frac{1}{2}) & (-2) & (1)\\\\\n",
    "(-2) & (\\frac{1}{2}) & (-1)\\\\\n",
    "(1) & (-1) & (-1)\\\\\n",
    "\\end{array}\n",
    "\n",
    "Eigen vector\n",
    "\\begin{array}{rrrr}\n",
    "(2)\\\\\n",
    "(2)\\\\\n",
    "(2)\\\\\n",
    "\\end{array}"
   ]
  },
  {
   "cell_type": "markdown",
   "metadata": {},
   "source": [
    "## **part 2 is not correct**"
   ]
  },
  {
   "cell_type": "markdown",
   "metadata": {},
   "source": [
    "### Part 3: Find the Gradient if the ∇Af(A) for the following:"
   ]
  },
  {
   "cell_type": "markdown",
   "metadata": {},
   "source": [
    "\\begin{align}\n",
    "f(A) = x_{11}^2x_{22}x_{23}+x_{11}+x_{12}x_{13}x_{31}-x_{33}^2x_{32}x_{21}\n",
    "\\end{align}\n",
    "\n",
    "Gradient\n",
    "\n",
    "\\begin{array}{rrrr}\n",
    "2x_{11}x_{22}x_{23}+x_{11}+x_{12}x_{13}x_{31}-x_{33}^2x_{32}x_{21} & f(A)  & f(A)\\\\\n",
    "f(A)  & f(A) & f(A)\\\\\n",
    "f(A) & f(A) & x_{11}^2x_{22}x_{23}+x_{11}+x_{12}x_{13}x_{31}-2x_{33}x_{32}x_{21}\n",
    "\\end{array}\n",
    "\n"
   ]
  },
  {
   "cell_type": "markdown",
   "metadata": {},
   "source": [
    "### Part 4: Find the Hessian Matrix\n"
   ]
  },
  {
   "cell_type": "markdown",
   "metadata": {},
   "source": [
    "First Partial Derivatives\n",
    "\n",
    "\\begin{align}\n",
    "\\frac{∂g}{∂x} = 3xy+yz\\cos(x)+xy^2z^5\\\\\n",
    "\\frac{∂g}{∂x} = x^3y+yz\\sin(x)+2xyz^5\\\\\n",
    "\\frac{∂g}{∂x} = x^3y+yz\\sin(x)+5xy^2z\\\\\n",
    "\\end{align}\n",
    "\n",
    "\n",
    "Hessian Matrix Formula\n",
    "\\begin{array}{rrrr}\n",
    "\\frac{∂^2g}{∂x^2}  & \\frac{∂^2g}{∂x∂y}  & \\frac{∂^2g}{∂x∂z}\\\\\n",
    "\\frac{∂^2g}{∂y∂x}  & \\frac{∂^2g}{∂y^2}  & \\frac{∂^2g}{∂y∂z}\\\\\n",
    "\\frac{∂^2g}{∂z∂x}  & \\frac{∂^2g}{∂z∂y} &  \\frac{∂^2g}{∂z^2}\\\\\n",
    "\\end{array}\n",
    "\n",
    "Hessian Matrix Formula\n",
    "\\begin{array}{rrrr}\n",
    "3y+yz\\sin(x)+y^2z^5    &  3xy+yzcos(x)+2yz^5  & 3xy+yz\\cos(x)+5xyz\\\\\n",
    "3x + 2\\cos(x) +x^2z^5    &  x^3+z\\sin(x)+2xz^5  &  x3+z\\sin(x)+10xyz\\\\\n",
    "3xy+y\\cos(x)+5x^2z    &   x^3y+y\\sin(x)+10xyz  & x^3y+y\\sin(x)+5xy^2\\\\\n",
    "\\end{array}\n"
   ]
  },
  {
   "cell_type": "markdown",
   "metadata": {},
   "source": [
    "## Problem 3: Machine Learning\n"
   ]
  },
  {
   "cell_type": "markdown",
   "metadata": {},
   "source": [
    "### Part 1: Explain the difference between validation and test samples\n"
   ]
  },
  {
   "cell_type": "markdown",
   "metadata": {},
   "source": [
    "The difference between the two samples is: \n",
    "\n",
    "Validation samples are used to tune the parameter of a learning algorithm when using labeled data. Test samples are used to evaluate the performance. "
   ]
  },
  {
   "cell_type": "markdown",
   "metadata": {},
   "source": [
    "### Part 2: Explain the difference between supervised and unsupervised learning algorithm.\n"
   ]
  },
  {
   "cell_type": "markdown",
   "metadata": {},
   "source": [
    "In supervised learning, the learner receives labeled data and uses it to predict unseen points.\n",
    "For unsupervised learning, the learner receives unlabeled data. It is much more difficult to evaluate the performance of this scenario."
   ]
  },
  {
   "cell_type": "code",
   "execution_count": null,
   "metadata": {},
   "outputs": [],
   "source": []
  }
 ],
 "metadata": {
  "kernelspec": {
   "display_name": "Python 3",
   "language": "python",
   "name": "python3"
  },
  "language_info": {
   "codemirror_mode": {
    "name": "ipython",
    "version": 3
   },
   "file_extension": ".py",
   "mimetype": "text/x-python",
   "name": "python",
   "nbconvert_exporter": "python",
   "pygments_lexer": "ipython3",
   "version": "3.7.3"
  }
 },
 "nbformat": 4,
 "nbformat_minor": 2
}
